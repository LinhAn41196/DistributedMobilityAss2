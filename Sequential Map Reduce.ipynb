{
 "cells": [
  {
   "cell_type": "code",
   "execution_count": 2,
   "metadata": {},
   "outputs": [
    {
     "name": "stdout",
     "output_type": "stream",
     "text": [
      "CPU times: user 200 ms, sys: 658 µs, total: 200 ms\n",
      "Wall time: 201 ms\n"
     ]
    },
    {
     "data": {
      "text/plain": [
       "[('realdonaldtrump', 1529),\n",
       " ('trump', 1189),\n",
       " ('great', 1043),\n",
       " ('thank', 889),\n",
       " ('amp', 607),\n",
       " ('hillary', 532),\n",
       " ('makeamericagreatagain', 514),\n",
       " ('america', 482),\n",
       " ('rt', 450),\n",
       " ('people', 443)]"
      ]
     },
     "execution_count": 2,
     "metadata": {},
     "output_type": "execute_result"
    }
   ],
   "source": [
    "import map_reduce_helper_func as mp\n",
    "from collections import Counter\n",
    "import pandas as pd\n",
    "data = pd.read_csv(\"Donald-Tweets!.csv\").Tweet_Text\n",
    "\n",
    "#Sequential \n",
    "\n",
    "def find_top_words(data):\n",
    "    cnt = Counter()\n",
    "    for text in data:\n",
    "        tokens_in_text = text.split()\n",
    "        tokens_in_text = map(mp.clean_word, tokens_in_text)\n",
    "        tokens_in_text = filter(mp.word_not_in_stopwords, tokens_in_text)\n",
    "        cnt.update(tokens_in_text)\n",
    "        \n",
    "    return cnt.most_common(10)\n",
    "\n",
    "%time find_top_words(data)"
   ]
  },
  {
   "cell_type": "code",
   "execution_count": null,
   "metadata": {},
   "outputs": [],
   "source": []
  }
 ],
 "metadata": {
  "kernelspec": {
   "display_name": "Python 3",
   "language": "python",
   "name": "python3"
  },
  "language_info": {
   "codemirror_mode": {
    "name": "ipython",
    "version": 3
   },
   "file_extension": ".py",
   "mimetype": "text/x-python",
   "name": "python",
   "nbconvert_exporter": "python",
   "pygments_lexer": "ipython3",
   "version": "3.7.3"
  }
 },
 "nbformat": 4,
 "nbformat_minor": 2
}
