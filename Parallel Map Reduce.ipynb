{
 "cells": [
  {
   "cell_type": "code",
   "execution_count": 2,
   "metadata": {},
   "outputs": [
    {
     "name": "stdout",
     "output_type": "stream",
     "text": [
      "CPU times: user 2 µs, sys: 1 µs, total: 3 µs\n",
      "Wall time: 3.81 µs\n",
      "[('realdonaldtrump', 1529), ('trump', 1189), ('great', 1043), ('thank', 889), ('amp', 607), ('hillary', 532), ('makeamericagreatagain', 514), ('america', 482), ('rt', 450), ('people', 443)]\n"
     ]
    }
   ],
   "source": [
    "import map_reduce_helper_func as mp\n",
    "from collections import Counter\n",
    "import pandas as pd\n",
    "data = pd.read_csv(\"Donald-Tweets!.csv\").Tweet_Text\n",
    "from multiprocessing import Pool\n",
    "from functools import reduce\n",
    "%time\n",
    "data_chunks = mp.chunkify(data, 2)\n",
    "#step 1:\n",
    "if __name__ ==  '__main__': \n",
    "    pool = Pool(2)\n",
    "    mapped = pool.map(mp.chunk_mapper, data_chunks)\n",
    "#step 2:\n",
    "reduced = reduce(mp.reducer, mapped)\n",
    "print(reduced.most_common(10))"
   ]
  },
  {
   "cell_type": "code",
   "execution_count": null,
   "metadata": {},
   "outputs": [],
   "source": []
  }
 ],
 "metadata": {
  "kernelspec": {
   "display_name": "Python 3",
   "language": "python",
   "name": "python3"
  },
  "language_info": {
   "codemirror_mode": {
    "name": "ipython",
    "version": 3
   },
   "file_extension": ".py",
   "mimetype": "text/x-python",
   "name": "python",
   "nbconvert_exporter": "python",
   "pygments_lexer": "ipython3",
   "version": "3.7.3"
  }
 },
 "nbformat": 4,
 "nbformat_minor": 2
}
